{
 "cells": [
  {
   "cell_type": "code",
   "execution_count": null,
   "metadata": {},
   "outputs": [],
   "source": [
    "import os\n",
    "\n",
    "\n",
    "os.environ[\"XLA_PYTHON_CLIENT_PREALLOCATE\"] = \"false\"\n",
    "\n",
    "\n",
    "from functools import partial\n",
    "\n",
    "import jax\n",
    "import mediapy\n",
    "from utils import expert_step, run_and_log_scenario\n",
    "from waymax import dynamics\n",
    "\n",
    "from vmax import PATH_TO_PROJECT\n",
    "from vmax.simulator import datasets, make_data_generator, make_env, visualization"
   ]
  },
  {
   "cell_type": "code",
   "execution_count": null,
   "metadata": {},
   "outputs": [],
   "source": [
    "MAX_NUM_OBJECTS = 64\n",
    "INCLUDE_SDC_PATHS = True\n",
    "SEED = 0\n",
    "path_dataset = \"\" # TO FILL\n",
    "\n",
    "\n",
    "data_generator = make_data_generator(\n",
    "    path=path_dataset,\n",
    "    max_num_objects=MAX_NUM_OBJECTS,\n",
    "    include_sdc_paths=INCLUDE_SDC_PATHS,\n",
    "    seed=SEED,\n",
    ")\n",
    "\n",
    "\n",
    "env = make_env(\n",
    "    max_num_objects=MAX_NUM_OBJECTS,\n",
    "    dynamics_model=dynamics.InvertibleBicycleModel(normalize_actions=True),\n",
    "    observation_type=\"segment\",\n",
    "    observation_config={\n",
    "        \"obs_past_num_steps\": 5,\n",
    "        \"objects\": {\n",
    "            \"features\": [\"waypoints\", \"velocity\", \"yaw\", \"size\", \"valid\"],\n",
    "            \"num_closest_objects\": 8,\n",
    "        },\n",
    "        \"roadgraphs\": {\n",
    "            \"features\": [\"waypoints\", \"direction\", \"types\", \"valid\"],\n",
    "            \"meters_box\": {\"front\": 50, \"back\": 10, \"left\": 12, \"right\": 12},\n",
    "            \"max_meters\": 50,\n",
    "            \"max_num_lanes\": 10,\n",
    "            \"max_num_points_per_lane\": 20,\n",
    "        },\n",
    "        \"traffic_lights\": {\n",
    "            \"features\": [\"waypoints\", \"state\", \"valid\"],\n",
    "        },\n",
    "        \"path_target\": {\n",
    "            \"features\": [\"waypoints\"],\n",
    "            \"num_points\": 10,\n",
    "            \"points_gap\": 5,\n",
    "        },\n",
    "    },\n",
    ")"
   ]
  },
  {
   "cell_type": "code",
   "execution_count": null,
   "metadata": {},
   "outputs": [],
   "source": [
    "scenario = next(data_generator)\n",
    "\n",
    "simulator_state = env.reset(scenario)"
   ]
  },
  {
   "cell_type": "code",
   "execution_count": null,
   "metadata": {},
   "outputs": [],
   "source": [
    "img = visualization.plot_input_agent(simulator_state, env)\n",
    "mediapy.show_image(img)"
   ]
  },
  {
   "cell_type": "code",
   "execution_count": null,
   "metadata": {},
   "outputs": [],
   "source": [
    "_step = partial(expert_step, env)\n",
    "_jitted_expert_step = jax.jit(_step)"
   ]
  },
  {
   "cell_type": "code",
   "execution_count": null,
   "metadata": {},
   "outputs": [],
   "source": [
    "for _i in range(0):\n",
    "    scenario = next(data_generator)\n",
    "    imgs = run_and_log_scenario(env, scenario, _jitted_expert_step)\n",
    "    mediapy.show_video(imgs, fps=10)"
   ]
  }
 ],
 "metadata": {
  "kernelspec": {
   "display_name": ".venv",
   "language": "python",
   "name": "python3"
  },
  "language_info": {
   "codemirror_mode": {
    "name": "ipython",
    "version": 3
   },
   "file_extension": ".py",
   "mimetype": "text/x-python",
   "name": "python",
   "nbconvert_exporter": "python",
   "pygments_lexer": "ipython3"
  }
 },
 "nbformat": 4,
 "nbformat_minor": 2
}
